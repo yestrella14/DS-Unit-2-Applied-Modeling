{
  "nbformat": 4,
  "nbformat_minor": 0,
  "metadata": {
    "kernelspec": {
      "display_name": "Python 3",
      "language": "python",
      "name": "python3"
    },
    "language_info": {
      "codemirror_mode": {
        "name": "ipython",
        "version": 3
      },
      "file_extension": ".py",
      "mimetype": "text/x-python",
      "name": "python",
      "nbconvert_exporter": "python",
      "pygments_lexer": "ipython3",
      "version": "3.7.3"
    },
    "colab": {
      "name": "YE_LS_DS_233_assignment.ipynb",
      "provenance": [],
      "include_colab_link": true
    }
  },
  "cells": [
    {
      "cell_type": "markdown",
      "metadata": {
        "id": "view-in-github",
        "colab_type": "text"
      },
      "source": [
        "<a href=\"https://colab.research.google.com/github/yestrella14/DS-Unit-2-Applied-Modeling/blob/master/YE_LS_DS_233_assignment.ipynb\" target=\"_parent\"><img src=\"https://colab.research.google.com/assets/colab-badge.svg\" alt=\"Open In Colab\"/></a>"
      ]
    },
    {
      "cell_type": "markdown",
      "metadata": {
        "id": "nCc3XZEyG3XV"
      },
      "source": [
        "Lambda School Data Science\n",
        "\n",
        "*Unit 2, Sprint 3, Module 3*\n",
        "\n",
        "---\n",
        "\n",
        "\n",
        "# Permutation & Boosting\n",
        "\n",
        "You will use your portfolio project dataset for all assignments this sprint.\n",
        "\n",
        "## Assignment\n",
        "\n",
        "Complete these tasks for your project, and document your work.\n",
        "\n",
        "- [ ] If you haven't completed assignment #1, please do so first.\n",
        "- [ ] Continue to clean and explore your data. Make exploratory visualizations.\n",
        "- [ ] Fit a model. Does it beat your baseline? \n",
        "- [ ] Try xgboost.\n",
        "- [ ] Get your model's permutation importances.\n",
        "\n",
        "You should try to complete an initial model today, because the rest of the week, we're making model interpretation visualizations.\n",
        "\n",
        "But, if you aren't ready to try xgboost and permutation importances with your dataset today, that's okay. You can practice with another dataset instead. You may choose any dataset you've worked with previously.\n",
        "\n",
        "The data subdirectory includes the Titanic dataset for classification and the NYC apartments dataset for regression. You may want to choose one of these datasets, because example solutions will be available for each.\n",
        "\n",
        "\n",
        "## Reading\n",
        "\n",
        "Top recommendations in _**bold italic:**_\n",
        "\n",
        "#### Permutation Importances\n",
        "- _**[Kaggle / Dan Becker: Machine Learning Explainability](https://www.kaggle.com/dansbecker/permutation-importance)**_\n",
        "- [Christoph Molnar: Interpretable Machine Learning](https://christophm.github.io/interpretable-ml-book/feature-importance.html)\n",
        "\n",
        "#### (Default) Feature Importances\n",
        "  - [Ando Saabas: Selecting good features, Part 3, Random Forests](https://blog.datadive.net/selecting-good-features-part-iii-random-forests/)\n",
        "  - [Terence Parr, et al: Beware Default Random Forest Importances](https://explained.ai/rf-importance/index.html)\n",
        "\n",
        "#### Gradient Boosting\n",
        "  - [A Gentle Introduction to the Gradient Boosting Algorithm for Machine Learning](https://machinelearningmastery.com/gentle-introduction-gradient-boosting-algorithm-machine-learning/)\n",
        "  - [An Introduction to Statistical Learning](http://www-bcf.usc.edu/~gareth/ISL/ISLR%20Seventh%20Printing.pdf), Chapter 8\n",
        "  - _**[Gradient Boosting Explained](https://www.gormanalysis.com/blog/gradient-boosting-explained/)**_ — Ben Gorman\n",
        "  - [Gradient Boosting Explained](http://arogozhnikov.github.io/2016/06/24/gradient_boosting_explained.html) — Alex Rogozhnikov\n",
        "  - [How to explain gradient boosting](https://explained.ai/gradient-boosting/) — Terence Parr & Jeremy Howard"
      ]
    },
    {
      "cell_type": "code",
      "metadata": {
        "id": "jJ1P_b2BfsTc"
      },
      "source": [
        "%%capture\n",
        "import sys\n",
        "\n",
        "# If you're on Colab:\n",
        "if 'google.colab' in sys.modules:\n",
        "    DATA_PATH = 'https://raw.githubusercontent.com/LambdaSchool/DS-Unit-2-Applied-Modeling/master/data/'\n",
        "    !pip install category_encoders==2.*\n",
        "    !pip install pandas-profiling==2.*\n",
        "\n",
        "# If you're working locally:\n",
        "else:\n",
        "    DATA_PATH = '../data/'"
      ],
      "execution_count": 1,
      "outputs": []
    },
    {
      "cell_type": "code",
      "metadata": {
        "id": "-t1JuZIUmmIZ"
      },
      "source": [
        "\n",
        "import pandas as pd\n",
        "earthquakes = pd. read_csv('https://raw.githubusercontent.com/yestrella14/datasets/master/earthquakes.csv')\n",
        "\n"
      ],
      "execution_count": 24,
      "outputs": []
    },
    {
      "cell_type": "markdown",
      "metadata": {
        "id": "H1FkCX2PmuKy"
      },
      "source": [
        "\n",
        "- [ ] Fit a model. Does it beat your baseline? \n",
        "- [ ] Try xgboost.\n",
        "- [ ] Get your model's permutation importances.\n"
      ]
    },
    {
      "cell_type": "code",
      "metadata": {
        "id": "r1HI8QCvmtsv"
      },
      "source": [
        "target = 'magType'"
      ],
      "execution_count": 3,
      "outputs": []
    },
    {
      "cell_type": "code",
      "metadata": {
        "id": "7S5apfDxwElc",
        "outputId": "4e31f6a3-4be7-46d6-8ea5-e480f1c98070",
        "colab": {
          "base_uri": "https://localhost:8080/",
          "height": 180
        }
      },
      "source": [
        "baseline= earthquakes[target].value_counts(normalize=True)\n",
        "baseline"
      ],
      "execution_count": 4,
      "outputs": [
        {
          "output_type": "execute_result",
          "data": {
            "text/plain": [
              "ml       0.696310\n",
              "md       0.232130\n",
              "mb       0.058172\n",
              "mww      0.006933\n",
              "mwr      0.003347\n",
              "mb_lg    0.001434\n",
              "mw       0.001195\n",
              "mh       0.000398\n",
              "mlr      0.000080\n",
              "Name: magType, dtype: float64"
            ]
          },
          "metadata": {
            "tags": []
          },
          "execution_count": 4
        }
      ]
    },
    {
      "cell_type": "code",
      "metadata": {
        "id": "4EpY757Ork83",
        "outputId": "0adfca30-e822-4dff-8cfa-d8b898a61c1c",
        "colab": {
          "base_uri": "https://localhost:8080/",
          "height": 33
        }
      },
      "source": [
        "from sklearn.model_selection import train_test_split\n",
        "train, test = train_test_split(earthquakes, train_size=0.80, test_size=0.20, random_state=14)\n",
        "train.shape, test.shape"
      ],
      "execution_count": 5,
      "outputs": [
        {
          "output_type": "execute_result",
          "data": {
            "text/plain": [
              "((10039, 22), (2510, 22))"
            ]
          },
          "metadata": {
            "tags": []
          },
          "execution_count": 5
        }
      ]
    },
    {
      "cell_type": "code",
      "metadata": {
        "id": "1EobqaDMsfdL",
        "outputId": "e3237d58-0757-41dd-8184-e929043ea34e",
        "colab": {
          "base_uri": "https://localhost:8080/",
          "height": 33
        }
      },
      "source": [
        "train, val = train_test_split(train, train_size=0.80, test_size=0.20, random_state=14)\n",
        "train.shape, val.shape, test.shape"
      ],
      "execution_count": 6,
      "outputs": [
        {
          "output_type": "execute_result",
          "data": {
            "text/plain": [
              "((8031, 22), (2008, 22), (2510, 22))"
            ]
          },
          "metadata": {
            "tags": []
          },
          "execution_count": 6
        }
      ]
    },
    {
      "cell_type": "code",
      "metadata": {
        "id": "jsdWgI7XsaBN",
        "outputId": "f23a5864-b1b4-4cd1-a822-63d8ab2207ff",
        "colab": {
          "base_uri": "https://localhost:8080/",
          "height": 66
        }
      },
      "source": [
        "import category_encoders as ce\n",
        "from sklearn.pipeline import make_pipeline\n",
        "from sklearn.tree import DecisionTreeClassifier\n",
        "from sklearn.impute import SimpleImputer\n",
        "\n",
        "\n",
        "features = train.columns.drop(['time', 'id', 'magType'])\n",
        "X_train = train[features]\n",
        "y_train = train[target]\n",
        "X_val = val[features]\n",
        "y_val = val[target]\n",
        "\n",
        "pipeline = make_pipeline(\n",
        "    ce.OrdinalEncoder(), \n",
        "    SimpleImputer(strategy='most_frequent'),\n",
        "    DecisionTreeClassifier(max_depth=3)\n",
        ")\n",
        "\n",
        "pipeline.fit(X_train, y_train)\n",
        "print('Validation Accuracy', pipeline.score(X_val, y_val))"
      ],
      "execution_count": 7,
      "outputs": [
        {
          "output_type": "stream",
          "text": [
            "/usr/local/lib/python3.6/dist-packages/statsmodels/tools/_testing.py:19: FutureWarning: pandas.util.testing is deprecated. Use the functions in the public API at pandas.testing instead.\n",
            "  import pandas.util.testing as tm\n"
          ],
          "name": "stderr"
        },
        {
          "output_type": "stream",
          "text": [
            "Validation Accuracy 0.954183266932271\n"
          ],
          "name": "stdout"
        }
      ]
    },
    {
      "cell_type": "code",
      "metadata": {
        "id": "uoUBXWvvsjfB",
        "outputId": "28a4bf2b-78e9-4759-9fa9-df87728e2846",
        "colab": {
          "base_uri": "https://localhost:8080/",
          "height": 597
        }
      },
      "source": [
        "import graphviz\n",
        "from sklearn.tree import export_graphviz\n",
        "\n",
        "tree = pipeline.named_steps['decisiontreeclassifier']\n",
        "\n",
        "dot_data = export_graphviz(\n",
        "    tree, \n",
        "    out_file=None, \n",
        "    feature_names=X_train.columns, \n",
        "    class_names=y_train.unique().astype(str), \n",
        "    filled=True, \n",
        "    impurity=False,\n",
        "    proportion=True\n",
        ")\n",
        "\n",
        "graphviz.Source(dot_data)"
      ],
      "execution_count": 8,
      "outputs": [
        {
          "output_type": "execute_result",
          "data": {
            "text/plain": [
              "<graphviz.files.Source at 0x7f708b28a630>"
            ],
            "image/svg+xml": "<?xml version=\"1.0\" encoding=\"UTF-8\" standalone=\"no\"?>\n<!DOCTYPE svg PUBLIC \"-//W3C//DTD SVG 1.1//EN\"\n \"http://www.w3.org/Graphics/SVG/1.1/DTD/svg11.dtd\">\n<!-- Generated by graphviz version 2.40.1 (20161225.0304)\n -->\n<!-- Title: Tree Pages: 1 -->\n<svg width=\"2865pt\" height=\"418pt\"\n viewBox=\"0.00 0.00 2865.00 418.00\" xmlns=\"http://www.w3.org/2000/svg\" xmlns:xlink=\"http://www.w3.org/1999/xlink\">\n<g id=\"graph0\" class=\"graph\" transform=\"scale(1 1) rotate(0) translate(4 414)\">\n<title>Tree</title>\n<polygon fill=\"#ffffff\" stroke=\"transparent\" points=\"-4,4 -4,-414 2861,-414 2861,4 -4,4\"/>\n<!-- 0 -->\n<g id=\"node1\" class=\"node\">\n<title>0</title>\n<polygon fill=\"#87e7ef\" stroke=\"#000000\" points=\"1595,-410 1220,-410 1220,-327 1595,-327 1595,-410\"/>\n<text text-anchor=\"middle\" x=\"1407.5\" y=\"-394.8\" font-family=\"Times,serif\" font-size=\"14.00\" fill=\"#000000\">mag &lt;= 3.87</text>\n<text text-anchor=\"middle\" x=\"1407.5\" y=\"-379.8\" font-family=\"Times,serif\" font-size=\"14.00\" fill=\"#000000\">samples = 100.0%</text>\n<text text-anchor=\"middle\" x=\"1407.5\" y=\"-364.8\" font-family=\"Times,serif\" font-size=\"14.00\" fill=\"#000000\">value = [0.057, 0.002, 0.233, 0.001, 0.696, 0.0, 0.001, 0.004</text>\n<text text-anchor=\"middle\" x=\"1407.5\" y=\"-349.8\" font-family=\"Times,serif\" font-size=\"14.00\" fill=\"#000000\">0.006]</text>\n<text text-anchor=\"middle\" x=\"1407.5\" y=\"-334.8\" font-family=\"Times,serif\" font-size=\"14.00\" fill=\"#000000\">class = mb_lg</text>\n</g>\n<!-- 1 -->\n<g id=\"node2\" class=\"node\">\n<title>1</title>\n<polygon fill=\"#7ce5ee\" stroke=\"#000000\" points=\"1241,-283.5 858,-283.5 858,-215.5 1241,-215.5 1241,-283.5\"/>\n<text text-anchor=\"middle\" x=\"1049.5\" y=\"-268.3\" font-family=\"Times,serif\" font-size=\"14.00\" fill=\"#000000\">locationSource &lt;= 4.5</text>\n<text text-anchor=\"middle\" x=\"1049.5\" y=\"-253.3\" font-family=\"Times,serif\" font-size=\"14.00\" fill=\"#000000\">samples = 93.2%</text>\n<text text-anchor=\"middle\" x=\"1049.5\" y=\"-238.3\" font-family=\"Times,serif\" font-size=\"14.00\" fill=\"#000000\">value = [0.001, 0.002, 0.25, 0.001, 0.746, 0.0, 0.001, 0.0, 0.0]</text>\n<text text-anchor=\"middle\" x=\"1049.5\" y=\"-223.3\" font-family=\"Times,serif\" font-size=\"14.00\" fill=\"#000000\">class = mb_lg</text>\n</g>\n<!-- 0&#45;&gt;1 -->\n<g id=\"edge1\" class=\"edge\">\n<title>0&#45;&gt;1</title>\n<path fill=\"none\" stroke=\"#000000\" d=\"M1282.5403,-326.9631C1243.2107,-313.8899 1200.0403,-299.5399 1161.658,-286.7816\"/>\n<polygon fill=\"#000000\" stroke=\"#000000\" points=\"1162.6017,-283.407 1152.0081,-283.5739 1160.3936,-290.0496 1162.6017,-283.407\"/>\n<text text-anchor=\"middle\" x=\"1163.2072\" y=\"-302.2252\" font-family=\"Times,serif\" font-size=\"14.00\" fill=\"#000000\">True</text>\n</g>\n<!-- 8 -->\n<g id=\"node9\" class=\"node\">\n<title>8</title>\n<polygon fill=\"#ea9a60\" stroke=\"#000000\" points=\"1960,-291 1615,-291 1615,-208 1960,-208 1960,-291\"/>\n<text text-anchor=\"middle\" x=\"1787.5\" y=\"-275.8\" font-family=\"Times,serif\" font-size=\"14.00\" fill=\"#000000\">mag &lt;= 5.15</text>\n<text text-anchor=\"middle\" x=\"1787.5\" y=\"-260.8\" font-family=\"Times,serif\" font-size=\"14.00\" fill=\"#000000\">samples = 6.8%</text>\n<text text-anchor=\"middle\" x=\"1787.5\" y=\"-245.8\" font-family=\"Times,serif\" font-size=\"14.00\" fill=\"#000000\">value = [0.821, 0.0, 0.005, 0.0, 0.018, 0.0, 0.007, 0.053</text>\n<text text-anchor=\"middle\" x=\"1787.5\" y=\"-230.8\" font-family=\"Times,serif\" font-size=\"14.00\" fill=\"#000000\">0.095]</text>\n<text text-anchor=\"middle\" x=\"1787.5\" y=\"-215.8\" font-family=\"Times,serif\" font-size=\"14.00\" fill=\"#000000\">class = ml</text>\n</g>\n<!-- 0&#45;&gt;8 -->\n<g id=\"edge8\" class=\"edge\">\n<title>0&#45;&gt;8</title>\n<path fill=\"none\" stroke=\"#000000\" d=\"M1540.1388,-326.9631C1574.0945,-316.3296 1610.7474,-304.8515 1645.1688,-294.0722\"/>\n<polygon fill=\"#000000\" stroke=\"#000000\" points=\"1646.317,-297.3802 1654.8141,-291.0516 1644.2251,-290.7001 1646.317,-297.3802\"/>\n<text text-anchor=\"middle\" x=\"1643.2272\" y=\"-309.5044\" font-family=\"Times,serif\" font-size=\"14.00\" fill=\"#000000\">False</text>\n</g>\n<!-- 2 -->\n<g id=\"node3\" class=\"node\">\n<title>2</title>\n<polygon fill=\"#3bd7e5\" stroke=\"#000000\" points=\"687.5,-172 327.5,-172 327.5,-89 687.5,-89 687.5,-172\"/>\n<text text-anchor=\"middle\" x=\"507.5\" y=\"-156.8\" font-family=\"Times,serif\" font-size=\"14.00\" fill=\"#000000\">magNst &lt;= 0.5</text>\n<text text-anchor=\"middle\" x=\"507.5\" y=\"-141.8\" font-family=\"Times,serif\" font-size=\"14.00\" fill=\"#000000\">samples = 39.5%</text>\n<text text-anchor=\"middle\" x=\"507.5\" y=\"-126.8\" font-family=\"Times,serif\" font-size=\"14.00\" fill=\"#000000\">value = [0.002, 0.004, 0.0, 0.001, 0.991, 0.0, 0.001, 0.001</text>\n<text text-anchor=\"middle\" x=\"507.5\" y=\"-111.8\" font-family=\"Times,serif\" font-size=\"14.00\" fill=\"#000000\">0.0]</text>\n<text text-anchor=\"middle\" x=\"507.5\" y=\"-96.8\" font-family=\"Times,serif\" font-size=\"14.00\" fill=\"#000000\">class = mb_lg</text>\n</g>\n<!-- 1&#45;&gt;2 -->\n<g id=\"edge2\" class=\"edge\">\n<title>1&#45;&gt;2</title>\n<path fill=\"none\" stroke=\"#000000\" d=\"M894.5473,-215.479C833.2466,-202.02 762.1791,-186.4166 697.7983,-172.2814\"/>\n<polygon fill=\"#000000\" stroke=\"#000000\" points=\"698.4564,-168.8426 687.9384,-170.1166 696.9552,-175.6797 698.4564,-168.8426\"/>\n</g>\n<!-- 5 -->\n<g id=\"node6\" class=\"node\">\n<title>5</title>\n<polygon fill=\"#d1f6f9\" stroke=\"#000000\" points=\"1222.5,-164.5 876.5,-164.5 876.5,-96.5 1222.5,-96.5 1222.5,-164.5\"/>\n<text text-anchor=\"middle\" x=\"1049.5\" y=\"-149.3\" font-family=\"Times,serif\" font-size=\"14.00\" fill=\"#000000\">latitude &lt;= 42.327</text>\n<text text-anchor=\"middle\" x=\"1049.5\" y=\"-134.3\" font-family=\"Times,serif\" font-size=\"14.00\" fill=\"#000000\">samples = 53.7%</text>\n<text text-anchor=\"middle\" x=\"1049.5\" y=\"-119.3\" font-family=\"Times,serif\" font-size=\"14.00\" fill=\"#000000\">value = [0.0, 0.0, 0.434, 0.0, 0.566, 0.0, 0.001, 0.0, 0.0]</text>\n<text text-anchor=\"middle\" x=\"1049.5\" y=\"-104.3\" font-family=\"Times,serif\" font-size=\"14.00\" fill=\"#000000\">class = mb_lg</text>\n</g>\n<!-- 1&#45;&gt;5 -->\n<g id=\"edge5\" class=\"edge\">\n<title>1&#45;&gt;5</title>\n<path fill=\"none\" stroke=\"#000000\" d=\"M1049.5,-215.3994C1049.5,-202.7021 1049.5,-188.1051 1049.5,-174.6357\"/>\n<polygon fill=\"#000000\" stroke=\"#000000\" points=\"1053.0001,-174.6056 1049.5,-164.6056 1046.0001,-174.6056 1053.0001,-174.6056\"/>\n</g>\n<!-- 3 -->\n<g id=\"node4\" class=\"node\">\n<title>3</title>\n<polygon fill=\"#39e581\" stroke=\"#000000\" points=\"301,-53 0,-53 0,0 301,0 301,-53\"/>\n<text text-anchor=\"middle\" x=\"150.5\" y=\"-37.8\" font-family=\"Times,serif\" font-size=\"14.00\" fill=\"#000000\">samples = 0.0%</text>\n<text text-anchor=\"middle\" x=\"150.5\" y=\"-22.8\" font-family=\"Times,serif\" font-size=\"14.00\" fill=\"#000000\">value = [0.0, 0.0, 0.0, 1.0, 0.0, 0.0, 0.0, 0.0, 0.0]</text>\n<text text-anchor=\"middle\" x=\"150.5\" y=\"-7.8\" font-family=\"Times,serif\" font-size=\"14.00\" fill=\"#000000\">class = mww</text>\n</g>\n<!-- 2&#45;&gt;3 -->\n<g id=\"edge3\" class=\"edge\">\n<title>2&#45;&gt;3</title>\n<path fill=\"none\" stroke=\"#000000\" d=\"M364.865,-88.9481C326.8746,-77.8808 286.6235,-66.155 251.3843,-55.8893\"/>\n<polygon fill=\"#000000\" stroke=\"#000000\" points=\"252.1638,-52.4709 241.584,-53.0343 250.2059,-59.1916 252.1638,-52.4709\"/>\n</g>\n<!-- 4 -->\n<g id=\"node5\" class=\"node\">\n<title>4</title>\n<polygon fill=\"#3bd7e5\" stroke=\"#000000\" points=\"695.5,-53 319.5,-53 319.5,0 695.5,0 695.5,-53\"/>\n<text text-anchor=\"middle\" x=\"507.5\" y=\"-37.8\" font-family=\"Times,serif\" font-size=\"14.00\" fill=\"#000000\">samples = 39.5%</text>\n<text text-anchor=\"middle\" x=\"507.5\" y=\"-22.8\" font-family=\"Times,serif\" font-size=\"14.00\" fill=\"#000000\">value = [0.002, 0.004, 0.0, 0.0, 0.992, 0.0, 0.001, 0.001, 0.0]</text>\n<text text-anchor=\"middle\" x=\"507.5\" y=\"-7.8\" font-family=\"Times,serif\" font-size=\"14.00\" fill=\"#000000\">class = mb_lg</text>\n</g>\n<!-- 2&#45;&gt;4 -->\n<g id=\"edge4\" class=\"edge\">\n<title>2&#45;&gt;4</title>\n<path fill=\"none\" stroke=\"#000000\" d=\"M507.5,-88.7985C507.5,-80.3748 507.5,-71.5755 507.5,-63.3334\"/>\n<polygon fill=\"#000000\" stroke=\"#000000\" points=\"511.0001,-63.2614 507.5,-53.2615 504.0001,-63.2615 511.0001,-63.2614\"/>\n</g>\n<!-- 6 -->\n<g id=\"node7\" class=\"node\">\n<title>6</title>\n<polygon fill=\"#72e74a\" stroke=\"#000000\" points=\"1051.5,-53 713.5,-53 713.5,0 1051.5,0 1051.5,-53\"/>\n<text text-anchor=\"middle\" x=\"882.5\" y=\"-37.8\" font-family=\"Times,serif\" font-size=\"14.00\" fill=\"#000000\">samples = 23.8%</text>\n<text text-anchor=\"middle\" x=\"882.5\" y=\"-22.8\" font-family=\"Times,serif\" font-size=\"14.00\" fill=\"#000000\">value = [0.0, 0.0, 0.919, 0.0, 0.08, 0.0, 0.002, 0.0, 0.0]</text>\n<text text-anchor=\"middle\" x=\"882.5\" y=\"-7.8\" font-family=\"Times,serif\" font-size=\"14.00\" fill=\"#000000\">class = md</text>\n</g>\n<!-- 5&#45;&gt;6 -->\n<g id=\"edge6\" class=\"edge\">\n<title>5&#45;&gt;6</title>\n<path fill=\"none\" stroke=\"#000000\" d=\"M994.818,-96.4465C975.1849,-84.22 953.1292,-70.4847 933.7943,-58.4437\"/>\n<polygon fill=\"#000000\" stroke=\"#000000\" points=\"935.4594,-55.3575 925.1206,-53.0422 931.7589,-61.2995 935.4594,-55.3575\"/>\n</g>\n<!-- 7 -->\n<g id=\"node8\" class=\"node\">\n<title>7</title>\n<polygon fill=\"#43d9e6\" stroke=\"#000000\" points=\"1401,-53 1070,-53 1070,0 1401,0 1401,-53\"/>\n<text text-anchor=\"middle\" x=\"1235.5\" y=\"-37.8\" font-family=\"Times,serif\" font-size=\"14.00\" fill=\"#000000\">samples = 29.9%</text>\n<text text-anchor=\"middle\" x=\"1235.5\" y=\"-22.8\" font-family=\"Times,serif\" font-size=\"14.00\" fill=\"#000000\">value = [0.0, 0.0, 0.048, 0.0, 0.952, 0.0, 0.0, 0.0, 0.0]</text>\n<text text-anchor=\"middle\" x=\"1235.5\" y=\"-7.8\" font-family=\"Times,serif\" font-size=\"14.00\" fill=\"#000000\">class = mb_lg</text>\n</g>\n<!-- 5&#45;&gt;7 -->\n<g id=\"edge7\" class=\"edge\">\n<title>5&#45;&gt;7</title>\n<path fill=\"none\" stroke=\"#000000\" d=\"M1110.4034,-96.4465C1132.5656,-84.0547 1157.4995,-70.1132 1179.2412,-57.9565\"/>\n<polygon fill=\"#000000\" stroke=\"#000000\" points=\"1181.0102,-60.9774 1188.0304,-53.0422 1177.594,-54.8676 1181.0102,-60.9774\"/>\n</g>\n<!-- 9 -->\n<g id=\"node10\" class=\"node\">\n<title>9</title>\n<polygon fill=\"#e89152\" stroke=\"#000000\" points=\"1979,-164.5 1596,-164.5 1596,-96.5 1979,-96.5 1979,-164.5\"/>\n<text text-anchor=\"middle\" x=\"1787.5\" y=\"-149.3\" font-family=\"Times,serif\" font-size=\"14.00\" fill=\"#000000\">magSource &lt;= 2.5</text>\n<text text-anchor=\"middle\" x=\"1787.5\" y=\"-134.3\" font-family=\"Times,serif\" font-size=\"14.00\" fill=\"#000000\">samples = 6.3%</text>\n<text text-anchor=\"middle\" x=\"1787.5\" y=\"-119.3\" font-family=\"Times,serif\" font-size=\"14.00\" fill=\"#000000\">value = [0.882, 0.0, 0.006, 0.0, 0.02, 0.0, 0.008, 0.058, 0.026]</text>\n<text text-anchor=\"middle\" x=\"1787.5\" y=\"-104.3\" font-family=\"Times,serif\" font-size=\"14.00\" fill=\"#000000\">class = ml</text>\n</g>\n<!-- 8&#45;&gt;9 -->\n<g id=\"edge9\" class=\"edge\">\n<title>8&#45;&gt;9</title>\n<path fill=\"none\" stroke=\"#000000\" d=\"M1787.5,-207.8796C1787.5,-197.2134 1787.5,-185.7021 1787.5,-174.9015\"/>\n<polygon fill=\"#000000\" stroke=\"#000000\" points=\"1791.0001,-174.8149 1787.5,-164.8149 1784.0001,-174.815 1791.0001,-174.8149\"/>\n</g>\n<!-- 12 -->\n<g id=\"node13\" class=\"node\">\n<title>12</title>\n<polygon fill=\"#ea6284\" stroke=\"#000000\" points=\"2500.5,-164.5 2184.5,-164.5 2184.5,-96.5 2500.5,-96.5 2500.5,-164.5\"/>\n<text text-anchor=\"middle\" x=\"2342.5\" y=\"-149.3\" font-family=\"Times,serif\" font-size=\"14.00\" fill=\"#000000\">magNst &lt;= 103.5</text>\n<text text-anchor=\"middle\" x=\"2342.5\" y=\"-134.3\" font-family=\"Times,serif\" font-size=\"14.00\" fill=\"#000000\">samples = 0.6%</text>\n<text text-anchor=\"middle\" x=\"2342.5\" y=\"-119.3\" font-family=\"Times,serif\" font-size=\"14.00\" fill=\"#000000\">value = [0.17, 0.0, 0.0, 0.0, 0.0, 0.0, 0.0, 0.0, 0.83]</text>\n<text text-anchor=\"middle\" x=\"2342.5\" y=\"-104.3\" font-family=\"Times,serif\" font-size=\"14.00\" fill=\"#000000\">class = mlr</text>\n</g>\n<!-- 8&#45;&gt;12 -->\n<g id=\"edge12\" class=\"edge\">\n<title>8&#45;&gt;12</title>\n<path fill=\"none\" stroke=\"#000000\" d=\"M1960.0632,-212.5C2028.3035,-197.8683 2106.4725,-181.1077 2174.2809,-166.5686\"/>\n<polygon fill=\"#000000\" stroke=\"#000000\" points=\"2175.1638,-169.9589 2184.2078,-164.4401 2173.6962,-163.1145 2175.1638,-169.9589\"/>\n</g>\n<!-- 10 -->\n<g id=\"node11\" class=\"node\">\n<title>10</title>\n<polygon fill=\"#e78d4b\" stroke=\"#000000\" points=\"1780,-53 1419,-53 1419,0 1780,0 1780,-53\"/>\n<text text-anchor=\"middle\" x=\"1599.5\" y=\"-37.8\" font-family=\"Times,serif\" font-size=\"14.00\" fill=\"#000000\">samples = 6.0%</text>\n<text text-anchor=\"middle\" x=\"1599.5\" y=\"-22.8\" font-family=\"Times,serif\" font-size=\"14.00\" fill=\"#000000\">value = [0.913, 0.0, 0.0, 0.0, 0.004, 0.0, 0.0, 0.056, 0.027]</text>\n<text text-anchor=\"middle\" x=\"1599.5\" y=\"-7.8\" font-family=\"Times,serif\" font-size=\"14.00\" fill=\"#000000\">class = ml</text>\n</g>\n<!-- 9&#45;&gt;10 -->\n<g id=\"edge10\" class=\"edge\">\n<title>9&#45;&gt;10</title>\n<path fill=\"none\" stroke=\"#000000\" d=\"M1725.9418,-96.4465C1703.5413,-84.0547 1678.3392,-70.1132 1656.3637,-57.9565\"/>\n<polygon fill=\"#000000\" stroke=\"#000000\" points=\"1657.9247,-54.8202 1647.4801,-53.0422 1654.5362,-60.9455 1657.9247,-54.8202\"/>\n</g>\n<!-- 11 -->\n<g id=\"node12\" class=\"node\">\n<title>11</title>\n<polygon fill=\"#c2f3f7\" stroke=\"#000000\" points=\"2158.5,-53 1798.5,-53 1798.5,0 2158.5,0 2158.5,-53\"/>\n<text text-anchor=\"middle\" x=\"1978.5\" y=\"-37.8\" font-family=\"Times,serif\" font-size=\"14.00\" fill=\"#000000\">samples = 0.2%</text>\n<text text-anchor=\"middle\" x=\"1978.5\" y=\"-22.8\" font-family=\"Times,serif\" font-size=\"14.00\" fill=\"#000000\">value = [0.0, 0.0, 0.176, 0.0, 0.471, 0.0, 0.235, 0.118, 0.0]</text>\n<text text-anchor=\"middle\" x=\"1978.5\" y=\"-7.8\" font-family=\"Times,serif\" font-size=\"14.00\" fill=\"#000000\">class = mb_lg</text>\n</g>\n<!-- 9&#45;&gt;11 -->\n<g id=\"edge11\" class=\"edge\">\n<title>9&#45;&gt;11</title>\n<path fill=\"none\" stroke=\"#000000\" d=\"M1850.0405,-96.4465C1872.7985,-84.0547 1898.4027,-70.1132 1920.7289,-57.9565\"/>\n<polygon fill=\"#000000\" stroke=\"#000000\" points=\"1922.6456,-60.8982 1929.7543,-53.0422 1919.2981,-54.7504 1922.6456,-60.8982\"/>\n</g>\n<!-- 13 -->\n<g id=\"node14\" class=\"node\">\n<title>13</title>\n<polygon fill=\"#e74970\" stroke=\"#000000\" points=\"2508,-53 2177,-53 2177,0 2508,0 2508,-53\"/>\n<text text-anchor=\"middle\" x=\"2342.5\" y=\"-37.8\" font-family=\"Times,serif\" font-size=\"14.00\" fill=\"#000000\">samples = 0.5%</text>\n<text text-anchor=\"middle\" x=\"2342.5\" y=\"-22.8\" font-family=\"Times,serif\" font-size=\"14.00\" fill=\"#000000\">value = [0.073, 0.0, 0.0, 0.0, 0.0, 0.0, 0.0, 0.0, 0.927]</text>\n<text text-anchor=\"middle\" x=\"2342.5\" y=\"-7.8\" font-family=\"Times,serif\" font-size=\"14.00\" fill=\"#000000\">class = mlr</text>\n</g>\n<!-- 12&#45;&gt;13 -->\n<g id=\"edge13\" class=\"edge\">\n<title>12&#45;&gt;13</title>\n<path fill=\"none\" stroke=\"#000000\" d=\"M2342.5,-96.4465C2342.5,-85.7621 2342.5,-73.9254 2342.5,-63.0742\"/>\n<polygon fill=\"#000000\" stroke=\"#000000\" points=\"2346.0001,-63.0421 2342.5,-53.0422 2339.0001,-63.0422 2346.0001,-63.0421\"/>\n</g>\n<!-- 14 -->\n<g id=\"node15\" class=\"node\">\n<title>14</title>\n<polygon fill=\"#ea9a61\" stroke=\"#000000\" points=\"2857,-53 2526,-53 2526,0 2857,0 2857,-53\"/>\n<text text-anchor=\"middle\" x=\"2691.5\" y=\"-37.8\" font-family=\"Times,serif\" font-size=\"14.00\" fill=\"#000000\">samples = 0.1%</text>\n<text text-anchor=\"middle\" x=\"2691.5\" y=\"-22.8\" font-family=\"Times,serif\" font-size=\"14.00\" fill=\"#000000\">value = [0.833, 0.0, 0.0, 0.0, 0.0, 0.0, 0.0, 0.0, 0.167]</text>\n<text text-anchor=\"middle\" x=\"2691.5\" y=\"-7.8\" font-family=\"Times,serif\" font-size=\"14.00\" fill=\"#000000\">class = ml</text>\n</g>\n<!-- 12&#45;&gt;14 -->\n<g id=\"edge14\" class=\"edge\">\n<title>12&#45;&gt;14</title>\n<path fill=\"none\" stroke=\"#000000\" d=\"M2456.7757,-96.4465C2500.6698,-83.3663 2550.3586,-68.5593 2592.6809,-55.9475\"/>\n<polygon fill=\"#000000\" stroke=\"#000000\" points=\"2593.8466,-59.2523 2602.4306,-53.0422 2591.8475,-52.5438 2593.8466,-59.2523\"/>\n</g>\n</g>\n</svg>\n"
          },
          "metadata": {
            "tags": []
          },
          "execution_count": 8
        }
      ]
    },
    {
      "cell_type": "code",
      "metadata": {
        "id": "-09ay-ZbDmV0",
        "outputId": "c0ccf438-47c7-4cee-bb3b-238931363442",
        "colab": {
          "base_uri": "https://localhost:8080/",
          "height": 602
        }
      },
      "source": [
        "from xgboost import XGBClassifier\n",
        "\n",
        "pipeline = make_pipeline(\n",
        "    ce.OrdinalEncoder(), \n",
        "    XGBClassifier(n_estimators=100, random_state=42, n_jobs=-1)\n",
        ")\n",
        "\n",
        "pipeline.fit(X_train, y_train)"
      ],
      "execution_count": 9,
      "outputs": [
        {
          "output_type": "execute_result",
          "data": {
            "text/plain": [
              "Pipeline(memory=None,\n",
              "         steps=[('ordinalencoder',\n",
              "                 OrdinalEncoder(cols=['net', 'updated', 'place', 'type',\n",
              "                                      'status', 'locationSource', 'magSource'],\n",
              "                                drop_invariant=False, handle_missing='value',\n",
              "                                handle_unknown='value',\n",
              "                                mapping=[{'col': 'net', 'data_type': dtype('O'),\n",
              "                                          'mapping': nn      1\n",
              "us      2\n",
              "ci      3\n",
              "ok      4\n",
              "nc      5\n",
              "hv      6\n",
              "pr      7\n",
              "ak      8\n",
              "mb      9\n",
              "av     10\n",
              "uw     11\n",
              "uu     12\n",
              "se     13\n",
              "nm     14\n",
              "NaN    -2\n",
              "dtype: int64},\n",
              "                                         {'col': 'updated',\n",
              "                                          'data_typ...\n",
              "                 XGBClassifier(base_score=0.5, booster='gbtree',\n",
              "                               colsample_bylevel=1, colsample_bynode=1,\n",
              "                               colsample_bytree=1, gamma=0, learning_rate=0.1,\n",
              "                               max_delta_step=0, max_depth=3,\n",
              "                               min_child_weight=1, missing=None,\n",
              "                               n_estimators=100, n_jobs=-1, nthread=None,\n",
              "                               objective='multi:softprob', random_state=42,\n",
              "                               reg_alpha=0, reg_lambda=1, scale_pos_weight=1,\n",
              "                               seed=None, silent=None, subsample=1,\n",
              "                               verbosity=1))],\n",
              "         verbose=False)"
            ]
          },
          "metadata": {
            "tags": []
          },
          "execution_count": 9
        }
      ]
    },
    {
      "cell_type": "code",
      "metadata": {
        "id": "SGnWlWHHDn4I",
        "outputId": "1938db3b-bd6a-4560-9ca1-c57aa3f5407e",
        "colab": {
          "base_uri": "https://localhost:8080/",
          "height": 33
        }
      },
      "source": [
        "from sklearn.metrics import accuracy_score\n",
        "y_pred = pipeline.predict(X_val)\n",
        "print('Validation Accuracy', accuracy_score(y_val, y_pred))"
      ],
      "execution_count": 10,
      "outputs": [
        {
          "output_type": "stream",
          "text": [
            "Validation Accuracy 0.9875498007968128\n"
          ],
          "name": "stdout"
        }
      ]
    },
    {
      "cell_type": "code",
      "metadata": {
        "id": "dJ3Ef510DuUN",
        "outputId": "24bd8cbf-95cd-4e23-cbcc-f36c41aab68c",
        "colab": {
          "base_uri": "https://localhost:8080/",
          "height": 1000
        }
      },
      "source": [
        "encoder = ce.OrdinalEncoder()\n",
        "X_train_encoded = encoder.fit_transform(X_train)\n",
        "X_val_encoded = encoder.transform(X_val)\n",
        "\n",
        "model = XGBClassifier(\n",
        "    n_estimators=1000, # <= 1000 trees, depend on early stopping\n",
        "    max_depth=7,       # try deeper trees because of high cardinality categoricals\n",
        "    learning_rate=0.5, # try higher learning rate\n",
        "    n_jobs=-1\n",
        ")\n",
        "\n",
        "eval_set = [(X_train_encoded, y_train), \n",
        "            (X_val_encoded, y_val)]\n",
        "\n",
        "model.fit(X_train_encoded, y_train, \n",
        "          eval_set=eval_set, \n",
        "          eval_metric='merror', \n",
        "          early_stopping_rounds=50) # Stop if the score hasn't improved in 50 rounds"
      ],
      "execution_count": 11,
      "outputs": [
        {
          "output_type": "stream",
          "text": [
            "[0]\tvalidation_0-merror:0.014818\tvalidation_1-merror:0.025398\n",
            "Multiple eval metrics have been passed: 'validation_1-merror' will be used for early stopping.\n",
            "\n",
            "Will train until validation_1-merror hasn't improved in 50 rounds.\n",
            "[1]\tvalidation_0-merror:0.012825\tvalidation_1-merror:0.01992\n",
            "[2]\tvalidation_0-merror:0.009339\tvalidation_1-merror:0.015936\n",
            "[3]\tvalidation_0-merror:0.006848\tvalidation_1-merror:0.016434\n",
            "[4]\tvalidation_0-merror:0.00523\tvalidation_1-merror:0.01494\n",
            "[5]\tvalidation_0-merror:0.004358\tvalidation_1-merror:0.014442\n",
            "[6]\tvalidation_0-merror:0.002739\tvalidation_1-merror:0.014442\n",
            "[7]\tvalidation_0-merror:0.001992\tvalidation_1-merror:0.014442\n",
            "[8]\tvalidation_0-merror:0.001494\tvalidation_1-merror:0.013944\n",
            "[9]\tvalidation_0-merror:0.000872\tvalidation_1-merror:0.014442\n",
            "[10]\tvalidation_0-merror:0.000374\tvalidation_1-merror:0.013446\n",
            "[11]\tvalidation_0-merror:0.000249\tvalidation_1-merror:0.012948\n",
            "[12]\tvalidation_0-merror:0.000249\tvalidation_1-merror:0.01245\n",
            "[13]\tvalidation_0-merror:0.000125\tvalidation_1-merror:0.012948\n",
            "[14]\tvalidation_0-merror:0\tvalidation_1-merror:0.013446\n",
            "[15]\tvalidation_0-merror:0\tvalidation_1-merror:0.012948\n",
            "[16]\tvalidation_0-merror:0\tvalidation_1-merror:0.012948\n",
            "[17]\tvalidation_0-merror:0\tvalidation_1-merror:0.013944\n",
            "[18]\tvalidation_0-merror:0\tvalidation_1-merror:0.013446\n",
            "[19]\tvalidation_0-merror:0\tvalidation_1-merror:0.011952\n",
            "[20]\tvalidation_0-merror:0\tvalidation_1-merror:0.012948\n",
            "[21]\tvalidation_0-merror:0\tvalidation_1-merror:0.012948\n",
            "[22]\tvalidation_0-merror:0\tvalidation_1-merror:0.012948\n",
            "[23]\tvalidation_0-merror:0\tvalidation_1-merror:0.012948\n",
            "[24]\tvalidation_0-merror:0\tvalidation_1-merror:0.013446\n",
            "[25]\tvalidation_0-merror:0\tvalidation_1-merror:0.013446\n",
            "[26]\tvalidation_0-merror:0\tvalidation_1-merror:0.013944\n",
            "[27]\tvalidation_0-merror:0\tvalidation_1-merror:0.013446\n",
            "[28]\tvalidation_0-merror:0\tvalidation_1-merror:0.012948\n",
            "[29]\tvalidation_0-merror:0\tvalidation_1-merror:0.01245\n",
            "[30]\tvalidation_0-merror:0\tvalidation_1-merror:0.012948\n",
            "[31]\tvalidation_0-merror:0\tvalidation_1-merror:0.01245\n",
            "[32]\tvalidation_0-merror:0\tvalidation_1-merror:0.01245\n",
            "[33]\tvalidation_0-merror:0\tvalidation_1-merror:0.01245\n",
            "[34]\tvalidation_0-merror:0\tvalidation_1-merror:0.011952\n",
            "[35]\tvalidation_0-merror:0\tvalidation_1-merror:0.011952\n",
            "[36]\tvalidation_0-merror:0\tvalidation_1-merror:0.011454\n",
            "[37]\tvalidation_0-merror:0\tvalidation_1-merror:0.011454\n",
            "[38]\tvalidation_0-merror:0\tvalidation_1-merror:0.011454\n",
            "[39]\tvalidation_0-merror:0\tvalidation_1-merror:0.011454\n",
            "[40]\tvalidation_0-merror:0\tvalidation_1-merror:0.011454\n",
            "[41]\tvalidation_0-merror:0\tvalidation_1-merror:0.011454\n",
            "[42]\tvalidation_0-merror:0\tvalidation_1-merror:0.011952\n",
            "[43]\tvalidation_0-merror:0\tvalidation_1-merror:0.011454\n",
            "[44]\tvalidation_0-merror:0\tvalidation_1-merror:0.011454\n",
            "[45]\tvalidation_0-merror:0\tvalidation_1-merror:0.011454\n",
            "[46]\tvalidation_0-merror:0\tvalidation_1-merror:0.011454\n",
            "[47]\tvalidation_0-merror:0\tvalidation_1-merror:0.011952\n",
            "[48]\tvalidation_0-merror:0\tvalidation_1-merror:0.011952\n",
            "[49]\tvalidation_0-merror:0\tvalidation_1-merror:0.011454\n",
            "[50]\tvalidation_0-merror:0\tvalidation_1-merror:0.011952\n",
            "[51]\tvalidation_0-merror:0\tvalidation_1-merror:0.011454\n",
            "[52]\tvalidation_0-merror:0\tvalidation_1-merror:0.011952\n",
            "[53]\tvalidation_0-merror:0\tvalidation_1-merror:0.011454\n",
            "[54]\tvalidation_0-merror:0\tvalidation_1-merror:0.011952\n",
            "[55]\tvalidation_0-merror:0\tvalidation_1-merror:0.011454\n",
            "[56]\tvalidation_0-merror:0\tvalidation_1-merror:0.011952\n",
            "[57]\tvalidation_0-merror:0\tvalidation_1-merror:0.011952\n",
            "[58]\tvalidation_0-merror:0\tvalidation_1-merror:0.011454\n",
            "[59]\tvalidation_0-merror:0\tvalidation_1-merror:0.011952\n",
            "[60]\tvalidation_0-merror:0\tvalidation_1-merror:0.011952\n",
            "[61]\tvalidation_0-merror:0\tvalidation_1-merror:0.011454\n",
            "[62]\tvalidation_0-merror:0\tvalidation_1-merror:0.011952\n",
            "[63]\tvalidation_0-merror:0\tvalidation_1-merror:0.011454\n",
            "[64]\tvalidation_0-merror:0\tvalidation_1-merror:0.011952\n",
            "[65]\tvalidation_0-merror:0\tvalidation_1-merror:0.011952\n",
            "[66]\tvalidation_0-merror:0\tvalidation_1-merror:0.011952\n",
            "[67]\tvalidation_0-merror:0\tvalidation_1-merror:0.010956\n",
            "[68]\tvalidation_0-merror:0\tvalidation_1-merror:0.011952\n",
            "[69]\tvalidation_0-merror:0\tvalidation_1-merror:0.011454\n",
            "[70]\tvalidation_0-merror:0\tvalidation_1-merror:0.011454\n",
            "[71]\tvalidation_0-merror:0\tvalidation_1-merror:0.011454\n",
            "[72]\tvalidation_0-merror:0\tvalidation_1-merror:0.011454\n",
            "[73]\tvalidation_0-merror:0\tvalidation_1-merror:0.011952\n",
            "[74]\tvalidation_0-merror:0\tvalidation_1-merror:0.011952\n",
            "[75]\tvalidation_0-merror:0\tvalidation_1-merror:0.011454\n",
            "[76]\tvalidation_0-merror:0\tvalidation_1-merror:0.011454\n",
            "[77]\tvalidation_0-merror:0\tvalidation_1-merror:0.011454\n",
            "[78]\tvalidation_0-merror:0\tvalidation_1-merror:0.011454\n",
            "[79]\tvalidation_0-merror:0\tvalidation_1-merror:0.011454\n",
            "[80]\tvalidation_0-merror:0\tvalidation_1-merror:0.011454\n",
            "[81]\tvalidation_0-merror:0\tvalidation_1-merror:0.011454\n",
            "[82]\tvalidation_0-merror:0\tvalidation_1-merror:0.011454\n",
            "[83]\tvalidation_0-merror:0\tvalidation_1-merror:0.011454\n",
            "[84]\tvalidation_0-merror:0\tvalidation_1-merror:0.011454\n",
            "[85]\tvalidation_0-merror:0\tvalidation_1-merror:0.011454\n",
            "[86]\tvalidation_0-merror:0\tvalidation_1-merror:0.011454\n",
            "[87]\tvalidation_0-merror:0\tvalidation_1-merror:0.011454\n",
            "[88]\tvalidation_0-merror:0\tvalidation_1-merror:0.011454\n",
            "[89]\tvalidation_0-merror:0\tvalidation_1-merror:0.011454\n",
            "[90]\tvalidation_0-merror:0\tvalidation_1-merror:0.011454\n",
            "[91]\tvalidation_0-merror:0\tvalidation_1-merror:0.010956\n",
            "[92]\tvalidation_0-merror:0\tvalidation_1-merror:0.011454\n",
            "[93]\tvalidation_0-merror:0\tvalidation_1-merror:0.010956\n",
            "[94]\tvalidation_0-merror:0\tvalidation_1-merror:0.011454\n",
            "[95]\tvalidation_0-merror:0\tvalidation_1-merror:0.010956\n",
            "[96]\tvalidation_0-merror:0\tvalidation_1-merror:0.010956\n",
            "[97]\tvalidation_0-merror:0\tvalidation_1-merror:0.010956\n",
            "[98]\tvalidation_0-merror:0\tvalidation_1-merror:0.010956\n",
            "[99]\tvalidation_0-merror:0\tvalidation_1-merror:0.010956\n",
            "[100]\tvalidation_0-merror:0\tvalidation_1-merror:0.010956\n",
            "[101]\tvalidation_0-merror:0\tvalidation_1-merror:0.010956\n",
            "[102]\tvalidation_0-merror:0\tvalidation_1-merror:0.010956\n",
            "[103]\tvalidation_0-merror:0\tvalidation_1-merror:0.010956\n",
            "[104]\tvalidation_0-merror:0\tvalidation_1-merror:0.010956\n",
            "[105]\tvalidation_0-merror:0\tvalidation_1-merror:0.010956\n",
            "[106]\tvalidation_0-merror:0\tvalidation_1-merror:0.010956\n",
            "[107]\tvalidation_0-merror:0\tvalidation_1-merror:0.010956\n",
            "[108]\tvalidation_0-merror:0\tvalidation_1-merror:0.010956\n",
            "[109]\tvalidation_0-merror:0\tvalidation_1-merror:0.010956\n",
            "[110]\tvalidation_0-merror:0\tvalidation_1-merror:0.010956\n",
            "[111]\tvalidation_0-merror:0\tvalidation_1-merror:0.010956\n",
            "[112]\tvalidation_0-merror:0\tvalidation_1-merror:0.010956\n",
            "[113]\tvalidation_0-merror:0\tvalidation_1-merror:0.010956\n",
            "[114]\tvalidation_0-merror:0\tvalidation_1-merror:0.010458\n",
            "[115]\tvalidation_0-merror:0\tvalidation_1-merror:0.010956\n",
            "[116]\tvalidation_0-merror:0\tvalidation_1-merror:0.010956\n",
            "[117]\tvalidation_0-merror:0\tvalidation_1-merror:0.010956\n",
            "[118]\tvalidation_0-merror:0\tvalidation_1-merror:0.010956\n",
            "[119]\tvalidation_0-merror:0\tvalidation_1-merror:0.010956\n",
            "[120]\tvalidation_0-merror:0\tvalidation_1-merror:0.010956\n",
            "[121]\tvalidation_0-merror:0\tvalidation_1-merror:0.010956\n",
            "[122]\tvalidation_0-merror:0\tvalidation_1-merror:0.010956\n",
            "[123]\tvalidation_0-merror:0\tvalidation_1-merror:0.010458\n",
            "[124]\tvalidation_0-merror:0\tvalidation_1-merror:0.010458\n",
            "[125]\tvalidation_0-merror:0\tvalidation_1-merror:0.010458\n",
            "[126]\tvalidation_0-merror:0\tvalidation_1-merror:0.010458\n",
            "[127]\tvalidation_0-merror:0\tvalidation_1-merror:0.010458\n",
            "[128]\tvalidation_0-merror:0\tvalidation_1-merror:0.010458\n",
            "[129]\tvalidation_0-merror:0\tvalidation_1-merror:0.010956\n",
            "[130]\tvalidation_0-merror:0\tvalidation_1-merror:0.010956\n",
            "[131]\tvalidation_0-merror:0\tvalidation_1-merror:0.010458\n",
            "[132]\tvalidation_0-merror:0\tvalidation_1-merror:0.010956\n",
            "[133]\tvalidation_0-merror:0\tvalidation_1-merror:0.010956\n",
            "[134]\tvalidation_0-merror:0\tvalidation_1-merror:0.010956\n",
            "[135]\tvalidation_0-merror:0\tvalidation_1-merror:0.010956\n",
            "[136]\tvalidation_0-merror:0\tvalidation_1-merror:0.010956\n",
            "[137]\tvalidation_0-merror:0\tvalidation_1-merror:0.010458\n",
            "[138]\tvalidation_0-merror:0\tvalidation_1-merror:0.010458\n",
            "[139]\tvalidation_0-merror:0\tvalidation_1-merror:0.010458\n",
            "[140]\tvalidation_0-merror:0\tvalidation_1-merror:0.010458\n",
            "[141]\tvalidation_0-merror:0\tvalidation_1-merror:0.010458\n",
            "[142]\tvalidation_0-merror:0\tvalidation_1-merror:0.010458\n",
            "[143]\tvalidation_0-merror:0\tvalidation_1-merror:0.010458\n",
            "[144]\tvalidation_0-merror:0\tvalidation_1-merror:0.010458\n",
            "[145]\tvalidation_0-merror:0\tvalidation_1-merror:0.010458\n",
            "[146]\tvalidation_0-merror:0\tvalidation_1-merror:0.010458\n",
            "[147]\tvalidation_0-merror:0\tvalidation_1-merror:0.010458\n",
            "[148]\tvalidation_0-merror:0\tvalidation_1-merror:0.010458\n",
            "[149]\tvalidation_0-merror:0\tvalidation_1-merror:0.010458\n",
            "[150]\tvalidation_0-merror:0\tvalidation_1-merror:0.010458\n",
            "[151]\tvalidation_0-merror:0\tvalidation_1-merror:0.010458\n",
            "[152]\tvalidation_0-merror:0\tvalidation_1-merror:0.010458\n",
            "[153]\tvalidation_0-merror:0\tvalidation_1-merror:0.010458\n",
            "[154]\tvalidation_0-merror:0\tvalidation_1-merror:0.010458\n",
            "[155]\tvalidation_0-merror:0\tvalidation_1-merror:0.010458\n",
            "[156]\tvalidation_0-merror:0\tvalidation_1-merror:0.010458\n",
            "[157]\tvalidation_0-merror:0\tvalidation_1-merror:0.010458\n",
            "[158]\tvalidation_0-merror:0\tvalidation_1-merror:0.010458\n",
            "[159]\tvalidation_0-merror:0\tvalidation_1-merror:0.010458\n",
            "[160]\tvalidation_0-merror:0\tvalidation_1-merror:0.010458\n",
            "[161]\tvalidation_0-merror:0\tvalidation_1-merror:0.010458\n",
            "[162]\tvalidation_0-merror:0\tvalidation_1-merror:0.010458\n",
            "[163]\tvalidation_0-merror:0\tvalidation_1-merror:0.010458\n",
            "[164]\tvalidation_0-merror:0\tvalidation_1-merror:0.010458\n",
            "Stopping. Best iteration:\n",
            "[114]\tvalidation_0-merror:0\tvalidation_1-merror:0.010458\n",
            "\n"
          ],
          "name": "stdout"
        },
        {
          "output_type": "execute_result",
          "data": {
            "text/plain": [
              "XGBClassifier(base_score=0.5, booster='gbtree', colsample_bylevel=1,\n",
              "              colsample_bynode=1, colsample_bytree=1, gamma=0,\n",
              "              learning_rate=0.5, max_delta_step=0, max_depth=7,\n",
              "              min_child_weight=1, missing=None, n_estimators=1000, n_jobs=-1,\n",
              "              nthread=None, objective='multi:softprob', random_state=0,\n",
              "              reg_alpha=0, reg_lambda=1, scale_pos_weight=1, seed=None,\n",
              "              silent=None, subsample=1, verbosity=1)"
            ]
          },
          "metadata": {
            "tags": []
          },
          "execution_count": 11
        }
      ]
    },
    {
      "cell_type": "code",
      "metadata": {
        "id": "ceNWYfvMD42I",
        "outputId": "bacf70fd-20eb-43fb-8a27-f8499ae66841",
        "colab": {
          "base_uri": "https://localhost:8080/",
          "height": 296
        }
      },
      "source": [
        "import matplotlib.pyplot as plt\n",
        "\n",
        "\n",
        "results = model.evals_result()\n",
        "train_error = results['validation_0']['merror']\n",
        "val_error = results['validation_1']['merror']\n",
        "epoch = list(range(1, len(train_error)+1))\n",
        "plt.plot(epoch, train_error, label='Train')\n",
        "plt.plot(epoch, val_error, label='Validation')\n",
        "plt.ylabel('Classification Error')\n",
        "plt.xlabel('Model Complexity (n_estimators)')\n",
        "plt.title('Validation Curve for this XGBoost model')\n",
        "\n",
        "plt.legend();"
      ],
      "execution_count": 17,
      "outputs": [
        {
          "output_type": "display_data",
          "data": {
            "image/png": "[encoded data removed]",
            "text/plain": [
              "<Figure size 432x288 with 1 Axes>"
            ]
          },
          "metadata": {
            "tags": [],
            "needs_background": "light"
          }
        }
      ]
    },
    {
      "cell_type": "code",
      "metadata": {
        "id": "hn-tr10vD48A"
      },
      "source": [
        ""
      ],
      "execution_count": null,
      "outputs": []
    },
    {
      "cell_type": "code",
      "metadata": {
        "id": "HXeMVo9FD45y"
      },
      "source": [
        ""
      ],
      "execution_count": null,
      "outputs": []
    },
    {
      "cell_type": "code",
      "metadata": {
        "id": "cf-a2F_7D4v5"
      },
      "source": [
        ""
      ],
      "execution_count": null,
      "outputs": []
    },
    {
      "cell_type": "code",
      "metadata": {
        "id": "i3X8N6Exs970",
        "outputId": "f2c6b5f4-b04a-47b5-fb6a-2b71d515a35c",
        "colab": {
          "base_uri": "https://localhost:8080/",
          "height": 33
        }
      },
      "source": [
        "import category_encoders as ce\n",
        "from sklearn.impute import SimpleImputer\n",
        "from sklearn.ensemble import RandomForestClassifier\n",
        "from sklearn.model_selection import train_test_split\n",
        "from sklearn.pipeline import make_pipeline\n",
        "\n",
        "pipeline = make_pipeline(\n",
        "    ce.OrdinalEncoder(), \n",
        "    SimpleImputer(strategy='median'), \n",
        "    RandomForestClassifier(n_estimators=100, random_state=42, n_jobs=-1)\n",
        ")\n",
        "\n",
        "# Fit on train, score on val\n",
        "pipeline.fit(X_train, y_train)\n",
        "print('Validation Accuracy', pipeline.score(X_val, y_val))"
      ],
      "execution_count": 18,
      "outputs": [
        {
          "output_type": "stream",
          "text": [
            "Validation Accuracy 0.9870517928286853\n"
          ],
          "name": "stdout"
        }
      ]
    },
    {
      "cell_type": "code",
      "metadata": {
        "id": "aNVgTHx7s9xf",
        "outputId": "370ddadd-ab09-4416-ee94-1c99032d88bf",
        "colab": {
          "base_uri": "https://localhost:8080/",
          "height": 390
        }
      },
      "source": [
        "# Get feature importances\n",
        "rf = pipeline.named_steps['randomforestclassifier']\n",
        "importances = pd.Series(rf.feature_importances_, X_train.columns)\n",
        "\n",
        "# Plot feature importances\n",
        "%matplotlib inline\n",
        "import matplotlib.pyplot as plt\n",
        "\n",
        "n = 12\n",
        "plt.figure(figsize=(10,n/2))\n",
        "plt.title(f'Top {n} features')\n",
        "importances.sort_values()[-n:].plot.barh(color='blue');"
      ],
      "execution_count": 22,
      "outputs": [
        {
          "output_type": "display_data",
          "data": {
            "image/png": "[encoded data removed]",
            "text/plain": [
              "<Figure size 720x432 with 1 Axes>"
            ]
          },
          "metadata": {
            "tags": [],
            "needs_background": "light"
          }
        }
      ]
    },
    {
      "cell_type": "code",
      "metadata": {
        "id": "QXXFtObBDI8Z",
        "outputId": "bbea6039-f7bb-4620-8ee8-7da58d11505c",
        "colab": {
          "base_uri": "https://localhost:8080/",
          "height": 66
        }
      },
      "source": [
        "column  = ['latitude', 'net']\n",
        "\n",
        "# Fit without column\n",
        "pipeline = make_pipeline(\n",
        "    ce.OrdinalEncoder(), \n",
        "    SimpleImputer(strategy='median'), \n",
        "    RandomForestClassifier(n_estimators=100, random_state=42, n_jobs=-1)\n",
        ")\n",
        "pipeline.fit(X_train.drop(columns=column), y_train)\n",
        "score_without = pipeline.score(X_val.drop(columns=column), y_val)\n",
        "print(f'Validation Accuracy without {column}: {score_without}')\n",
        "\n",
        "# Fit with column\n",
        "pipeline = make_pipeline(\n",
        "    ce.OrdinalEncoder(), \n",
        "    SimpleImputer(strategy='median'), \n",
        "    RandomForestClassifier(n_estimators=100, random_state=42, n_jobs=-1)\n",
        ")\n",
        "pipeline.fit(X_train, y_train)\n",
        "score_with = pipeline.score(X_val, y_val)\n",
        "print(f'Validation Accuracy with {column}: {score_with}')\n",
        "\n",
        "# Compare the error with & without column\n",
        "print(f'Drop-Column Importance for {column}: {score_with - score_without}')"
      ],
      "execution_count": 23,
      "outputs": [
        {
          "output_type": "stream",
          "text": [
            "Validation Accuracy without ['latitude', 'net']: 0.9840637450199203\n",
            "Validation Accuracy with ['latitude', 'net']: 0.9870517928286853\n",
            "Drop-Column Importance for ['latitude', 'net']: 0.0029880478087649376\n"
          ],
          "name": "stdout"
        }
      ]
    }
  ]
}